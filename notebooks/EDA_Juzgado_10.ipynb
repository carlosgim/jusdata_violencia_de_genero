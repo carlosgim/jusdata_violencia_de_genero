{
 "cells": [
  {
   "cell_type": "markdown",
   "metadata": {},
   "source": [
    "# Análisis Exploratorio de Datos de Juzgado 10"
   ]
  },
  {
   "cell_type": "code",
   "execution_count": 1,
   "metadata": {},
   "outputs": [],
   "source": [
    "from pathlib import Path\n",
    "import pandas as pd\n",
    "import sys\n",
    "project_dir = Path().resolve().parents[0]\n",
    "import seaborn as sns\n",
    "import matplotlib.pyplot as plt\n",
    "%matplotlib inline\n",
    "from datetime import datetime"
   ]
  },
  {
   "cell_type": "markdown",
   "metadata": {},
   "source": [
    "## 1. Carga de Datos"
   ]
  },
  {
   "cell_type": "code",
   "execution_count": 2,
   "metadata": {},
   "outputs": [],
   "source": [
    "df_xlsx_17 = pd.read_excel(str(project_dir) + '/data/juz10/'+ \"set_de_datos_resoluciones_jpcyf10_2017.ods.xlsx\")\n",
    "df_xlsx_18 = pd.read_excel(str(project_dir) + '/data/juz10/'+ \"set_de_datos_resoluciones_jpcyf10_2018.xlsx\")"
   ]
  },
  {
   "cell_type": "code",
   "execution_count": 3,
   "metadata": {},
   "outputs": [
    {
     "name": "stdout",
     "output_type": "stream",
     "text": [
      "En 2017 tenemos 562 casos\n",
      "En 2018 tenemos 1180 casos\n"
     ]
    }
   ],
   "source": [
    "print('En 2017 tenemos {} casos'.format(df_xlsx_17.shape[0]))\n",
    "print('En 2018 tenemos {} casos'.format(df_xlsx_18.shape[0]))"
   ]
  },
  {
   "cell_type": "markdown",
   "metadata": {},
   "source": [
    "### 1.1 Unimos los archivos"
   ]
  },
  {
   "cell_type": "markdown",
   "metadata": {},
   "source": [
    "Buscamos campos coincidentes entre los archivos jpcyf10_2017 y jpcyf10_2018"
   ]
  },
  {
   "cell_type": "code",
   "execution_count": 4,
   "metadata": {},
   "outputs": [
    {
     "data": {
      "text/plain": [
       "['N',\n",
       " 'NRO. REGISTRO',\n",
       " 'TOMO',\n",
       " 'FECHA RESOLUCION',\n",
       " 'NRO_EXPTE_JUSCABA',\n",
       " 'MATERIA',\n",
       " 'ARTICULO_INFRINGIDO',\n",
       " 'TIPO_DE_RESOLUCION',\n",
       " 'OBJETO_DE_LA_RESOLUCION ',\n",
       " 'DETALLE',\n",
       " 'DECISION',\n",
       " 'LINK',\n",
       " 'Unnamed: 12']"
      ]
     },
     "execution_count": 4,
     "metadata": {},
     "output_type": "execute_result"
    }
   ],
   "source": [
    "list(df_xlsx_17.columns.values)"
   ]
  },
  {
   "cell_type": "code",
   "execution_count": 5,
   "metadata": {},
   "outputs": [],
   "source": [
    "df_xlsx_17.columns = ['N',\n",
    " 'NRO._REGISTRO',\n",
    " 'TOMO',\n",
    " 'FECHA_RESOLUCION',\n",
    " 'NRO_EXPTE_EJE',\n",
    " 'MATERIA',\n",
    " 'ARTICULO_INFRINGIDO',\n",
    " 'TIPO_DE_RESOLUCION',\n",
    " 'OBJETO_DE_LA_RESOLUCION ',\n",
    " 'DETALLE',\n",
    " 'DECISION',\n",
    " 'LINK',\n",
    " 'Unnamed: 12']"
   ]
  },
  {
   "cell_type": "code",
   "execution_count": 6,
   "metadata": {},
   "outputs": [
    {
     "data": {
      "text/plain": [
       "['N',\n",
       " 'NRO._REGISTRO',\n",
       " 'TOMO',\n",
       " 'FECHA_RESOLUCION',\n",
       " 'NRO_EXPTE_EJE',\n",
       " 'MATERIA',\n",
       " 'ARTICULO_INFRINGIDO',\n",
       " 'CONDUCTA',\n",
       " 'TIPO_DE_RESOLUCION',\n",
       " 'OBJETO_DE_LA_RESOLUCION',\n",
       " 'DETALLE',\n",
       " 'DECISION',\n",
       " 'ORAL_O_ESCRITA',\n",
       " 'HORA_DE_INICIO',\n",
       " 'HORA_DE_CIERRE',\n",
       " 'DURACION',\n",
       " 'LINK',\n",
       " 'SI/NO_Recurrente',\n",
       " 'Decisión ',\n",
       " 'Nº Registro y Tomo',\n",
       " 'Link',\n",
       " 'SI/NO y Recurrente',\n",
       " 'Decisión de Admisibilidad (Cámara)',\n",
       " 'Nº Registro y Tomo.1',\n",
       " 'Link.1',\n",
       " 'Decisión de Fondo (TSJ)',\n",
       " 'Nº Registro y Tomo.2',\n",
       " 'SI/NO y quien',\n",
       " 'Confirma/Revoca/Confirma parcialmente/Rechazo in limine',\n",
       " 'Nº Registro y Tomo.3']"
      ]
     },
     "execution_count": 6,
     "metadata": {},
     "output_type": "execute_result"
    }
   ],
   "source": [
    "list(df_xlsx_18.columns.values)"
   ]
  },
  {
   "cell_type": "code",
   "execution_count": 7,
   "metadata": {},
   "outputs": [
    {
     "name": "stdout",
     "output_type": "stream",
     "text": [
      "Los campos coincidentes son:\n"
     ]
    },
    {
     "data": {
      "text/plain": [
       "['LINK',\n",
       " 'DETALLE',\n",
       " 'DECISION',\n",
       " 'NRO_EXPTE_EJE',\n",
       " 'MATERIA',\n",
       " 'TOMO',\n",
       " 'ARTICULO_INFRINGIDO',\n",
       " 'N',\n",
       " 'NRO._REGISTRO',\n",
       " 'FECHA_RESOLUCION',\n",
       " 'TIPO_DE_RESOLUCION']"
      ]
     },
     "execution_count": 7,
     "metadata": {},
     "output_type": "execute_result"
    }
   ],
   "source": [
    "print('Los campos coincidentes son:')\n",
    "list(set(df_xlsx_17.columns.values).intersection(df_xlsx_18.columns.values))"
   ]
  },
  {
   "cell_type": "markdown",
   "metadata": {},
   "source": [
    "Seleccionamos el subset"
   ]
  },
  {
   "cell_type": "code",
   "execution_count": 8,
   "metadata": {},
   "outputs": [],
   "source": [
    "df_18 = df_xlsx_18[['DECISION','NRO._REGISTRO','N','MATERIA',\n",
    "         'DETALLE','LINK','FECHA_RESOLUCION','ARTICULO_INFRINGIDO',\n",
    "            'NRO_EXPTE_EJE','TIPO_DE_RESOLUCION','TOMO']]"
   ]
  },
  {
   "cell_type": "code",
   "execution_count": 9,
   "metadata": {},
   "outputs": [],
   "source": [
    "df_17 = df_xlsx_17[['DECISION','NRO._REGISTRO','N','MATERIA',\n",
    "         'DETALLE','LINK','FECHA_RESOLUCION','ARTICULO_INFRINGIDO',\n",
    "            'NRO_EXPTE_EJE','TIPO_DE_RESOLUCION','TOMO']]"
   ]
  },
  {
   "cell_type": "markdown",
   "metadata": {},
   "source": [
    "Combinamos"
   ]
  },
  {
   "cell_type": "code",
   "execution_count": 10,
   "metadata": {},
   "outputs": [],
   "source": [
    "df_xlsx_all = df_17.append(df_18)"
   ]
  },
  {
   "cell_type": "code",
   "execution_count": 11,
   "metadata": {},
   "outputs": [
    {
     "name": "stdout",
     "output_type": "stream",
     "text": [
      "Finalmente nos quedan 1742 registros\n"
     ]
    }
   ],
   "source": [
    "print('Finalmente nos quedan {} registros'.format(df_xlsx_all.shape[0]))"
   ]
  },
  {
   "cell_type": "markdown",
   "metadata": {},
   "source": [
    "## 2. Exploramos las distintas variables"
   ]
  },
  {
   "cell_type": "markdown",
   "metadata": {},
   "source": [
    "### 2.1 Fechas"
   ]
  },
  {
   "cell_type": "markdown",
   "metadata": {},
   "source": [
    "Corregimos fechas"
   ]
  },
  {
   "cell_type": "code",
   "execution_count": 16,
   "metadata": {},
   "outputs": [
    {
     "name": "stdout",
     "output_type": "stream",
     "text": [
      "Se eliminó el 19.63 % de registros\n"
     ]
    },
    {
     "name": "stderr",
     "output_type": "stream",
     "text": [
      "/anaconda3/envs/py36/lib/python3.6/site-packages/ipykernel_launcher.py:10: SettingWithCopyWarning: \n",
      "A value is trying to be set on a copy of a slice from a DataFrame\n",
      "\n",
      "See the caveats in the documentation: http://pandas.pydata.org/pandas-docs/stable/indexing.html#indexing-view-versus-copy\n",
      "  # Remove the CWD from sys.path while we load stuff.\n"
     ]
    }
   ],
   "source": [
    "# Corregimos algunos datos\n",
    "df_xlsx['FECHA_RESOLUCION'].replace('14_08_17','14_08_2017', inplace=True)\n",
    "df_xlsx['FECHA_RESOLUCION'].replace('28_02_18','28_02_2018', inplace=True)\n",
    "df_xlsx['FECHA_RESOLUCION'].replace('04_09_18','04_09_2018', inplace=True)\n",
    "df_xlsx['FECHA_RESOLUCION'].replace('06_09_18','06_09_2018', inplace=True)\n",
    "df_xlsx['FECHA_RESOLUCION'].replace('10_09_18','10_09_2018', inplace=True)\n",
    "\n",
    "# Valor 18_19_2017 no tiene formato de fecha\n",
    "df_xlsx['FECHA_RESOLUCION'].replace('18_19_2017',None, inplace=True)\n",
    "df_xlsx.dropna(subset=['FECHA_RESOLUCION'], inplace=True)\n",
    "print('Se eliminó el {:0.2f} % de registros'.format((df_xlsx_all.shape[0]-df_xlsx.shape[0])/df_xlsx_all.shape[0]*100))"
   ]
  },
  {
   "cell_type": "code",
   "execution_count": null,
   "metadata": {},
   "outputs": [],
   "source": [
    "# Convertimos a campo fecha\n",
    "df_xlsx['FECHA_RESOLUCION']=df_xlsx['FECHA_RESOLUCION'].apply(lambda x: datetime.strptime(x, '%d_%m_%Y').strftime('%m-%d-%Y'))\n",
    "df_xlsx['FECHA_RESOLUCION'] = pd.to_datetime(df_xlsx['FECHA_RESOLUCION'])"
   ]
  },
  {
   "cell_type": "code",
   "execution_count": null,
   "metadata": {},
   "outputs": [],
   "source": [
    "df_xlsx['FECHA_RESOLUCION'].groupby(df_xlsx['FECHA_RESOLUCION'].dt.month).count().plot(kind=\"bar\")"
   ]
  },
  {
   "cell_type": "code",
   "execution_count": null,
   "metadata": {},
   "outputs": [],
   "source": [
    "df_xlsx['FECHA_RESOLUCION'].min()"
   ]
  },
  {
   "cell_type": "code",
   "execution_count": null,
   "metadata": {},
   "outputs": [],
   "source": [
    "df_xlsx['FECHA_RESOLUCION'].max()"
   ]
  },
  {
   "cell_type": "code",
   "execution_count": null,
   "metadata": {},
   "outputs": [],
   "source": [
    "df_xlsx['FECHA_RESOLUCION'].groupby(df_xlsx['FECHA_RESOLUCION'].dt.year).count().plot(kind=\"bar\")"
   ]
  },
  {
   "cell_type": "markdown",
   "metadata": {},
   "source": [
    "### 2.2 Distribución de Causa"
   ]
  },
  {
   "cell_type": "code",
   "execution_count": null,
   "metadata": {},
   "outputs": [],
   "source": [
    "df_xlsx['exp_unico'] = df_xlsx['NRO_EXPTE_EJE'].astype(str) +'T_'+ df_xlsx['TOMO'].astype(str)"
   ]
  },
  {
   "cell_type": "code",
   "execution_count": null,
   "metadata": {},
   "outputs": [],
   "source": [
    "df_xlsx.exp_unico.head()"
   ]
  },
  {
   "cell_type": "markdown",
   "metadata": {},
   "source": [
    "Estudiamos cuantas causas tienen expedientes que aparecen mas de una ves en la tabla."
   ]
  },
  {
   "cell_type": "code",
   "execution_count": null,
   "metadata": {},
   "outputs": [],
   "source": [
    "df_xlsx.groupby('exp_unico', sort=True).size().to_frame('count').groupby('count').size().to_frame('casos')"
   ]
  },
  {
   "cell_type": "markdown",
   "metadata": {},
   "source": [
    "### 2.3 Distribución por Materia"
   ]
  },
  {
   "cell_type": "code",
   "execution_count": null,
   "metadata": {},
   "outputs": [],
   "source": [
    "df_xlsx['MATERIA'].groupby(df_xlsx['MATERIA']).count().plot(kind=\"bar\")"
   ]
  }
 ],
 "metadata": {
  "kernelspec": {
   "display_name": "Python 3",
   "language": "python",
   "name": "python3"
  },
  "language_info": {
   "codemirror_mode": {
    "name": "ipython",
    "version": 3
   },
   "file_extension": ".py",
   "mimetype": "text/x-python",
   "name": "python",
   "nbconvert_exporter": "python",
   "pygments_lexer": "ipython3",
   "version": "3.6.7"
  }
 },
 "nbformat": 4,
 "nbformat_minor": 2
}
