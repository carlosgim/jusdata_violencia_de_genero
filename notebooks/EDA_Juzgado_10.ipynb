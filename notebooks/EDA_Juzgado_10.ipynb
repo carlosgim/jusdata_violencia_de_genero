{
 "cells": [
  {
   "cell_type": "markdown",
   "metadata": {},
   "source": [
    "# Análisis Exploratorio de Datos de Juzgado 10"
   ]
  },
  {
   "cell_type": "code",
   "execution_count": 21,
   "metadata": {},
   "outputs": [],
   "source": [
    "from pathlib import Path\n",
    "import pandas as pd\n",
    "import sys\n",
    "project_dir = Path().resolve().parents[0]\n",
    "import seaborn as sns\n",
    "import matplotlib.pyplot as plt\n",
    "%matplotlib inline\n",
    "from datetime import datetime"
   ]
  },
  {
   "cell_type": "markdown",
   "metadata": {},
   "source": [
    "## 1. Carga de Datos"
   ]
  },
  {
   "cell_type": "code",
   "execution_count": 3,
   "metadata": {},
   "outputs": [],
   "source": [
    "df_xlsx = pd.read_excel(str(project_dir) + '/data/juz10/'+ \"set_de_datos_resoluciones_jpcyf10_2017.ods.xlsx\")"
   ]
  },
  {
   "cell_type": "markdown",
   "metadata": {},
   "source": [
    "Exploramos el contenido"
   ]
  },
  {
   "cell_type": "code",
   "execution_count": 4,
   "metadata": {},
   "outputs": [
    {
     "name": "stdout",
     "output_type": "stream",
     "text": [
      "<class 'pandas.core.frame.DataFrame'>\n",
      "RangeIndex: 562 entries, 0 to 561\n",
      "Data columns (total 13 columns):\n",
      "N                           524 non-null float64\n",
      "NRO. REGISTRO               534 non-null object\n",
      "TOMO                        541 non-null float64\n",
      "FECHA RESOLUCION            561 non-null object\n",
      "NRO_EXPTE_JUSCABA           561 non-null object\n",
      "MATERIA                     562 non-null object\n",
      "ARTICULO_INFRINGIDO         562 non-null object\n",
      "TIPO_DE_RESOLUCION          562 non-null object\n",
      "OBJETO_DE_LA_RESOLUCION     562 non-null object\n",
      "DETALLE                     406 non-null object\n",
      "DECISION                    545 non-null object\n",
      "LINK                        559 non-null object\n",
      "Unnamed: 12                 1 non-null object\n",
      "dtypes: float64(2), object(11)\n",
      "memory usage: 57.2+ KB\n"
     ]
    }
   ],
   "source": [
    "df_xlsx.info()"
   ]
  },
  {
   "cell_type": "markdown",
   "metadata": {},
   "source": [
    "Segun vemos los archivos excel son iguales, pasamos a hacer combinar"
   ]
  },
  {
   "cell_type": "code",
   "execution_count": 5,
   "metadata": {},
   "outputs": [
    {
     "data": {
      "text/html": [
       "<div>\n",
       "<style scoped>\n",
       "    .dataframe tbody tr th:only-of-type {\n",
       "        vertical-align: middle;\n",
       "    }\n",
       "\n",
       "    .dataframe tbody tr th {\n",
       "        vertical-align: top;\n",
       "    }\n",
       "\n",
       "    .dataframe thead th {\n",
       "        text-align: right;\n",
       "    }\n",
       "</style>\n",
       "<table border=\"1\" class=\"dataframe\">\n",
       "  <thead>\n",
       "    <tr style=\"text-align: right;\">\n",
       "      <th></th>\n",
       "      <th>N</th>\n",
       "      <th>NRO. REGISTRO</th>\n",
       "      <th>TOMO</th>\n",
       "      <th>FECHA RESOLUCION</th>\n",
       "      <th>NRO_EXPTE_JUSCABA</th>\n",
       "      <th>MATERIA</th>\n",
       "      <th>ARTICULO_INFRINGIDO</th>\n",
       "      <th>TIPO_DE_RESOLUCION</th>\n",
       "      <th>OBJETO_DE_LA_RESOLUCION</th>\n",
       "      <th>DETALLE</th>\n",
       "      <th>DECISION</th>\n",
       "      <th>LINK</th>\n",
       "      <th>Unnamed: 12</th>\n",
       "    </tr>\n",
       "  </thead>\n",
       "  <tbody>\n",
       "    <tr>\n",
       "      <th>0</th>\n",
       "      <td>1.0</td>\n",
       "      <td>0708</td>\n",
       "      <td>5.0</td>\n",
       "      <td>09_01_2017</td>\n",
       "      <td>17545_16</td>\n",
       "      <td>penal</td>\n",
       "      <td>128</td>\n",
       "      <td>interlocutoria</td>\n",
       "      <td>cuestion_de_competencia</td>\n",
       "      <td>incompetencia_territorial</td>\n",
       "      <td>hace_lugar</td>\n",
       "      <td>https://drive.google.com/open?id=0B9wNhp3Gjjaz...</td>\n",
       "      <td>NaN</td>\n",
       "    </tr>\n",
       "    <tr>\n",
       "      <th>1</th>\n",
       "      <td>2.0</td>\n",
       "      <td>0709</td>\n",
       "      <td>5.0</td>\n",
       "      <td>12_01_2017</td>\n",
       "      <td>176_17</td>\n",
       "      <td>allanamientos_autonomos</td>\n",
       "      <td>ac7_08</td>\n",
       "      <td>definitiva</td>\n",
       "      <td>pedido_de_allanamiento</td>\n",
       "      <td>NaN</td>\n",
       "      <td>no_hace_lugar</td>\n",
       "      <td>https://drive.google.com/open?id=0B9wNhp3Gjjaz...</td>\n",
       "      <td>NaN</td>\n",
       "    </tr>\n",
       "    <tr>\n",
       "      <th>2</th>\n",
       "      <td>3.0</td>\n",
       "      <td>0710</td>\n",
       "      <td>5.0</td>\n",
       "      <td>16_01_2017</td>\n",
       "      <td>182_17</td>\n",
       "      <td>allanamientos_autonomos</td>\n",
       "      <td>ac7_08</td>\n",
       "      <td>definitiva</td>\n",
       "      <td>pedido_de_allanamiento</td>\n",
       "      <td>NaN</td>\n",
       "      <td>no_hace_lugar</td>\n",
       "      <td>https://drive.google.com/open?id=0B9wNhp3Gjjaz...</td>\n",
       "      <td>NaN</td>\n",
       "    </tr>\n",
       "    <tr>\n",
       "      <th>3</th>\n",
       "      <td>4.0</td>\n",
       "      <td>0710bis</td>\n",
       "      <td>5.0</td>\n",
       "      <td>12_01_2017</td>\n",
       "      <td>494_17</td>\n",
       "      <td>penal</td>\n",
       "      <td>181</td>\n",
       "      <td>interlocutoria</td>\n",
       "      <td>medidas_probatorias</td>\n",
       "      <td>pedido_de_allanamiento</td>\n",
       "      <td>no_hace_lugar</td>\n",
       "      <td>https://drive.google.com/open?id=0B9wNhp3Gjjaz...</td>\n",
       "      <td>NaN</td>\n",
       "    </tr>\n",
       "    <tr>\n",
       "      <th>4</th>\n",
       "      <td>5.0</td>\n",
       "      <td>0711</td>\n",
       "      <td>5.0</td>\n",
       "      <td>17_01_2017</td>\n",
       "      <td>566_17</td>\n",
       "      <td>contravencional</td>\n",
       "      <td>54</td>\n",
       "      <td>interlocutoria</td>\n",
       "      <td>medidas_cautelares</td>\n",
       "      <td>clausura</td>\n",
       "      <td>convalida</td>\n",
       "      <td>https://drive.google.com/open?id=0B9wNhp3Gjjaz...</td>\n",
       "      <td>NaN</td>\n",
       "    </tr>\n",
       "  </tbody>\n",
       "</table>\n",
       "</div>"
      ],
      "text/plain": [
       "     N NRO. REGISTRO  TOMO FECHA RESOLUCION NRO_EXPTE_JUSCABA  \\\n",
       "0  1.0          0708   5.0       09_01_2017          17545_16   \n",
       "1  2.0          0709   5.0       12_01_2017            176_17   \n",
       "2  3.0          0710   5.0       16_01_2017            182_17   \n",
       "3  4.0       0710bis   5.0       12_01_2017            494_17   \n",
       "4  5.0          0711   5.0       17_01_2017            566_17   \n",
       "\n",
       "                   MATERIA ARTICULO_INFRINGIDO TIPO_DE_RESOLUCION  \\\n",
       "0                    penal                 128     interlocutoria   \n",
       "1  allanamientos_autonomos              ac7_08         definitiva   \n",
       "2  allanamientos_autonomos              ac7_08         definitiva   \n",
       "3                    penal                 181     interlocutoria   \n",
       "4          contravencional                  54     interlocutoria   \n",
       "\n",
       "  OBJETO_DE_LA_RESOLUCION                     DETALLE       DECISION  \\\n",
       "0  cuestion_de_competencia  incompetencia_territorial     hace_lugar   \n",
       "1   pedido_de_allanamiento                        NaN  no_hace_lugar   \n",
       "2   pedido_de_allanamiento                        NaN  no_hace_lugar   \n",
       "3      medidas_probatorias     pedido_de_allanamiento  no_hace_lugar   \n",
       "4      medidas_cautelares                    clausura      convalida   \n",
       "\n",
       "                                                LINK Unnamed: 12  \n",
       "0  https://drive.google.com/open?id=0B9wNhp3Gjjaz...         NaN  \n",
       "1  https://drive.google.com/open?id=0B9wNhp3Gjjaz...         NaN  \n",
       "2  https://drive.google.com/open?id=0B9wNhp3Gjjaz...         NaN  \n",
       "3  https://drive.google.com/open?id=0B9wNhp3Gjjaz...         NaN  \n",
       "4  https://drive.google.com/open?id=0B9wNhp3Gjjaz...         NaN  "
      ]
     },
     "execution_count": 5,
     "metadata": {},
     "output_type": "execute_result"
    }
   ],
   "source": [
    "df_xlsx.head()"
   ]
  },
  {
   "cell_type": "markdown",
   "metadata": {},
   "source": [
    "## 2. Exploramos las distintas variables"
   ]
  },
  {
   "cell_type": "markdown",
   "metadata": {},
   "source": [
    "### 2.1 Fechas"
   ]
  },
  {
   "cell_type": "code",
   "execution_count": 32,
   "metadata": {},
   "outputs": [],
   "source": [
    "df_xlsx.dropna(subset=['FECHA RESOLUCION'], inplace=True)"
   ]
  },
  {
   "cell_type": "code",
   "execution_count": 35,
   "metadata": {},
   "outputs": [
    {
     "data": {
      "text/plain": [
       "0      09_01_2017\n",
       "1      12_01_2017\n",
       "2      16_01_2017\n",
       "3      12_01_2017\n",
       "4      17_01_2017\n",
       "5      17_01_2017\n",
       "6      13_01_2017\n",
       "7      17_01_2017\n",
       "8      17_01_2017\n",
       "9      17_01_2017\n",
       "10     17_01_2017\n",
       "11     20_01_2017\n",
       "12     19_01_2017\n",
       "13     19_01_2017\n",
       "14     20_01_2017\n",
       "15     27_01_2017\n",
       "16     31_01_2017\n",
       "17     31_01_2017\n",
       "18     29_12_2016\n",
       "19     29_12_2016\n",
       "20     16_01_2017\n",
       "21     01_02_2017\n",
       "22     01_02_2017\n",
       "23     03_02_2017\n",
       "24     03_02_2017\n",
       "25     02_02_2017\n",
       "26     07_02_2017\n",
       "27     07_02_2017\n",
       "28     06_02_2017\n",
       "29     09_02_2017\n",
       "          ...    \n",
       "532    19_12_2017\n",
       "533    19_12_2017\n",
       "534    19_12_2017\n",
       "535    19_12_2017\n",
       "536    14_12_2017\n",
       "537    20_12_2017\n",
       "538    20_12_2017\n",
       "539    20_12_2017\n",
       "540    20_12_2017\n",
       "541    21_12_2017\n",
       "542    14_12_2017\n",
       "543    26_12_2017\n",
       "544    26_12_2017\n",
       "545    26_12_2017\n",
       "546    27_12_2017\n",
       "547    26_12_2017\n",
       "548    15_12_2017\n",
       "549    27_12_2017\n",
       "550    28_12_2017\n",
       "551    28_12_2017\n",
       "552    27_12_2017\n",
       "553    27_12_2017\n",
       "554    27_12_2017\n",
       "555    29_12_2017\n",
       "556    27_12_2017\n",
       "557    21_12_2017\n",
       "558    26_12_2017\n",
       "559    28_12_2017\n",
       "560    28_12_2017\n",
       "561    29_12_2017\n",
       "Name: FECHA RESOLUCION, Length: 561, dtype: object"
      ]
     },
     "execution_count": 35,
     "metadata": {},
     "output_type": "execute_result"
    }
   ],
   "source": [
    "df_xlsx['FECHA RESOLUCION']"
   ]
  },
  {
   "cell_type": "code",
   "execution_count": 38,
   "metadata": {},
   "outputs": [
    {
     "data": {
      "text/plain": [
       "1    01-12-2017\n",
       "2    01-16-2017\n",
       "3    01-12-2017\n",
       "4    01-17-2017\n",
       "5    01-17-2017\n",
       "6    01-13-2017\n",
       "7    01-17-2017\n",
       "8    01-17-2017\n",
       "9    01-17-2017\n",
       "Name: FECHA RESOLUCION, dtype: object"
      ]
     },
     "execution_count": 38,
     "metadata": {},
     "output_type": "execute_result"
    }
   ],
   "source": [
    "df_xlsx['FECHA RESOLUCION'][1:10].apply(lambda x: datetime.strptime(x, '%d_%m_%Y').strftime('%m-%d-%Y'))"
   ]
  },
  {
   "cell_type": "code",
   "execution_count": null,
   "metadata": {},
   "outputs": [],
   "source": [
    "#TODO: FIX Fecha"
   ]
  },
  {
   "cell_type": "code",
   "execution_count": 7,
   "metadata": {},
   "outputs": [
    {
     "ename": "AttributeError",
     "evalue": "Can only use .dt accessor with datetimelike values",
     "output_type": "error",
     "traceback": [
      "\u001b[0;31m---------------------------------------------------------------------------\u001b[0m",
      "\u001b[0;31mAttributeError\u001b[0m                            Traceback (most recent call last)",
      "\u001b[0;32m<ipython-input-7-598baf4cce1c>\u001b[0m in \u001b[0;36m<module>\u001b[0;34m\u001b[0m\n\u001b[0;32m----> 1\u001b[0;31m \u001b[0mdf_xlsx\u001b[0m\u001b[0;34m[\u001b[0m\u001b[0;34m'FECHA RESOLUCION'\u001b[0m\u001b[0;34m]\u001b[0m\u001b[0;34m.\u001b[0m\u001b[0mgroupby\u001b[0m\u001b[0;34m(\u001b[0m\u001b[0mdf_xlsx\u001b[0m\u001b[0;34m[\u001b[0m\u001b[0;34m'FECHA RESOLUCION'\u001b[0m\u001b[0;34m]\u001b[0m\u001b[0;34m.\u001b[0m\u001b[0mdt\u001b[0m\u001b[0;34m.\u001b[0m\u001b[0mmonth\u001b[0m\u001b[0;34m)\u001b[0m\u001b[0;34m.\u001b[0m\u001b[0mcount\u001b[0m\u001b[0;34m(\u001b[0m\u001b[0;34m)\u001b[0m\u001b[0;34m.\u001b[0m\u001b[0mplot\u001b[0m\u001b[0;34m(\u001b[0m\u001b[0mkind\u001b[0m\u001b[0;34m=\u001b[0m\u001b[0;34m\"bar\"\u001b[0m\u001b[0;34m)\u001b[0m\u001b[0;34m\u001b[0m\u001b[0;34m\u001b[0m\u001b[0m\n\u001b[0m",
      "\u001b[0;32m/anaconda3/envs/py36/lib/python3.6/site-packages/pandas/core/generic.py\u001b[0m in \u001b[0;36m__getattr__\u001b[0;34m(self, name)\u001b[0m\n\u001b[1;32m   4370\u001b[0m         if (name in self._internal_names_set or name in self._metadata or\n\u001b[1;32m   4371\u001b[0m                 name in self._accessors):\n\u001b[0;32m-> 4372\u001b[0;31m             \u001b[0;32mreturn\u001b[0m \u001b[0mobject\u001b[0m\u001b[0;34m.\u001b[0m\u001b[0m__getattribute__\u001b[0m\u001b[0;34m(\u001b[0m\u001b[0mself\u001b[0m\u001b[0;34m,\u001b[0m \u001b[0mname\u001b[0m\u001b[0;34m)\u001b[0m\u001b[0;34m\u001b[0m\u001b[0;34m\u001b[0m\u001b[0m\n\u001b[0m\u001b[1;32m   4373\u001b[0m         \u001b[0;32melse\u001b[0m\u001b[0;34m:\u001b[0m\u001b[0;34m\u001b[0m\u001b[0;34m\u001b[0m\u001b[0m\n\u001b[1;32m   4374\u001b[0m             \u001b[0;32mif\u001b[0m \u001b[0mself\u001b[0m\u001b[0;34m.\u001b[0m\u001b[0m_info_axis\u001b[0m\u001b[0;34m.\u001b[0m\u001b[0m_can_hold_identifiers_and_holds_name\u001b[0m\u001b[0;34m(\u001b[0m\u001b[0mname\u001b[0m\u001b[0;34m)\u001b[0m\u001b[0;34m:\u001b[0m\u001b[0;34m\u001b[0m\u001b[0;34m\u001b[0m\u001b[0m\n",
      "\u001b[0;32m/anaconda3/envs/py36/lib/python3.6/site-packages/pandas/core/accessor.py\u001b[0m in \u001b[0;36m__get__\u001b[0;34m(self, obj, cls)\u001b[0m\n\u001b[1;32m    131\u001b[0m             \u001b[0;31m# we're accessing the attribute of the class, i.e., Dataset.geo\u001b[0m\u001b[0;34m\u001b[0m\u001b[0;34m\u001b[0m\u001b[0;34m\u001b[0m\u001b[0m\n\u001b[1;32m    132\u001b[0m             \u001b[0;32mreturn\u001b[0m \u001b[0mself\u001b[0m\u001b[0;34m.\u001b[0m\u001b[0m_accessor\u001b[0m\u001b[0;34m\u001b[0m\u001b[0;34m\u001b[0m\u001b[0m\n\u001b[0;32m--> 133\u001b[0;31m         \u001b[0maccessor_obj\u001b[0m \u001b[0;34m=\u001b[0m \u001b[0mself\u001b[0m\u001b[0;34m.\u001b[0m\u001b[0m_accessor\u001b[0m\u001b[0;34m(\u001b[0m\u001b[0mobj\u001b[0m\u001b[0;34m)\u001b[0m\u001b[0;34m\u001b[0m\u001b[0;34m\u001b[0m\u001b[0m\n\u001b[0m\u001b[1;32m    134\u001b[0m         \u001b[0;31m# Replace the property with the accessor object. Inspired by:\u001b[0m\u001b[0;34m\u001b[0m\u001b[0;34m\u001b[0m\u001b[0;34m\u001b[0m\u001b[0m\n\u001b[1;32m    135\u001b[0m         \u001b[0;31m# http://www.pydanny.com/cached-property.html\u001b[0m\u001b[0;34m\u001b[0m\u001b[0;34m\u001b[0m\u001b[0;34m\u001b[0m\u001b[0m\n",
      "\u001b[0;32m/anaconda3/envs/py36/lib/python3.6/site-packages/pandas/core/indexes/accessors.py\u001b[0m in \u001b[0;36m__new__\u001b[0;34m(cls, data)\u001b[0m\n\u001b[1;32m    323\u001b[0m             \u001b[0;32mpass\u001b[0m  \u001b[0;31m# we raise an attribute error anyway\u001b[0m\u001b[0;34m\u001b[0m\u001b[0;34m\u001b[0m\u001b[0m\n\u001b[1;32m    324\u001b[0m \u001b[0;34m\u001b[0m\u001b[0m\n\u001b[0;32m--> 325\u001b[0;31m         raise AttributeError(\"Can only use .dt accessor with datetimelike \"\n\u001b[0m\u001b[1;32m    326\u001b[0m                              \"values\")\n",
      "\u001b[0;31mAttributeError\u001b[0m: Can only use .dt accessor with datetimelike values"
     ]
    }
   ],
   "source": [
    "df_xlsx['FECHA RESOLUCION'].groupby(df_xlsx['FECHA RESOLUCION'].dt.month).count().plot(kind=\"bar\")"
   ]
  },
  {
   "cell_type": "code",
   "execution_count": 79,
   "metadata": {},
   "outputs": [
    {
     "data": {
      "text/plain": [
       "Timestamp('2017-10-02 00:00:00')"
      ]
     },
     "execution_count": 79,
     "metadata": {},
     "output_type": "execute_result"
    }
   ],
   "source": [
    "df_xlsx.Fecha.min()"
   ]
  },
  {
   "cell_type": "code",
   "execution_count": 80,
   "metadata": {},
   "outputs": [
    {
     "data": {
      "text/plain": [
       "Timestamp('2018-12-10 00:00:00')"
      ]
     },
     "execution_count": 80,
     "metadata": {},
     "output_type": "execute_result"
    }
   ],
   "source": [
    "df_xlsx.Fecha.max()"
   ]
  },
  {
   "cell_type": "code",
   "execution_count": 83,
   "metadata": {},
   "outputs": [
    {
     "data": {
      "text/plain": [
       "<matplotlib.axes._subplots.AxesSubplot at 0x1a1a82d860>"
      ]
     },
     "execution_count": 83,
     "metadata": {},
     "output_type": "execute_result"
    },
    {
     "data": {
      "image/png": "[encoded data removed]",
      "text/plain": [
       "<Figure size 432x288 with 1 Axes>"
      ]
     },
     "metadata": {
      "needs_background": "light"
     },
     "output_type": "display_data"
    }
   ],
   "source": [
    "df_xlsx.Fecha.groupby(df_xlsx[\"Fecha\"].dt.year).count().plot(kind=\"bar\")"
   ]
  },
  {
   "cell_type": "markdown",
   "metadata": {},
   "source": [
    "### 2.2 Distribución de Cusa"
   ]
  },
  {
   "cell_type": "code",
   "execution_count": 84,
   "metadata": {},
   "outputs": [
    {
     "data": {
      "text/plain": [
       "(528,)"
      ]
     },
     "execution_count": 84,
     "metadata": {},
     "output_type": "execute_result"
    }
   ],
   "source": [
    "df_xlsx.Causa.shape"
   ]
  },
  {
   "cell_type": "markdown",
   "metadata": {},
   "source": [
    "Estudiamos cuantas causas tienen expedientes que aparecen mas de una ves en la tabla."
   ]
  },
  {
   "cell_type": "code",
   "execution_count": 85,
   "metadata": {},
   "outputs": [
    {
     "data": {
      "text/html": [
       "<div>\n",
       "<style scoped>\n",
       "    .dataframe tbody tr th:only-of-type {\n",
       "        vertical-align: middle;\n",
       "    }\n",
       "\n",
       "    .dataframe tbody tr th {\n",
       "        vertical-align: top;\n",
       "    }\n",
       "\n",
       "    .dataframe thead th {\n",
       "        text-align: right;\n",
       "    }\n",
       "</style>\n",
       "<table border=\"1\" class=\"dataframe\">\n",
       "  <thead>\n",
       "    <tr style=\"text-align: right;\">\n",
       "      <th></th>\n",
       "      <th>casos</th>\n",
       "    </tr>\n",
       "    <tr>\n",
       "      <th>count</th>\n",
       "      <th></th>\n",
       "    </tr>\n",
       "  </thead>\n",
       "  <tbody>\n",
       "    <tr>\n",
       "      <th>2</th>\n",
       "      <td>195</td>\n",
       "    </tr>\n",
       "    <tr>\n",
       "      <th>4</th>\n",
       "      <td>23</td>\n",
       "    </tr>\n",
       "    <tr>\n",
       "      <th>6</th>\n",
       "      <td>3</td>\n",
       "    </tr>\n",
       "    <tr>\n",
       "      <th>8</th>\n",
       "      <td>1</td>\n",
       "    </tr>\n",
       "    <tr>\n",
       "      <th>10</th>\n",
       "      <td>1</td>\n",
       "    </tr>\n",
       "  </tbody>\n",
       "</table>\n",
       "</div>"
      ],
      "text/plain": [
       "       casos\n",
       "count       \n",
       "2      195  \n",
       "4      23   \n",
       "6      3    \n",
       "8      1    \n",
       "10     1    "
      ]
     },
     "execution_count": 85,
     "metadata": {},
     "output_type": "execute_result"
    }
   ],
   "source": [
    "df_xlsx.groupby('Causa', sort=True).size().to_frame('count').groupby('count').size().to_frame('casos')"
   ]
  }
 ],
 "metadata": {
  "kernelspec": {
   "display_name": "Python 3",
   "language": "python",
   "name": "python3"
  },
  "language_info": {
   "codemirror_mode": {
    "name": "ipython",
    "version": 3
   },
   "file_extension": ".py",
   "mimetype": "text/x-python",
   "name": "python",
   "nbconvert_exporter": "python",
   "pygments_lexer": "ipython3",
   "version": "3.6.7"
  }
 },
 "nbformat": 4,
 "nbformat_minor": 2
}
