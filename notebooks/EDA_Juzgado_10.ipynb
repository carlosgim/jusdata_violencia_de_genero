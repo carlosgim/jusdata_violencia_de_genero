{
 "cells": [
  {
   "cell_type": "markdown",
   "metadata": {},
   "source": [
    "# Análisis Exploratorio de Datos de Juzgado 10"
   ]
  },
  {
   "cell_type": "code",
   "execution_count": 121,
   "metadata": {},
   "outputs": [],
   "source": [
    "from pathlib import Path\n",
    "import pandas as pd\n",
    "import sys\n",
    "project_dir = Path().resolve().parents[0]\n",
    "import seaborn as sns\n",
    "import matplotlib.pyplot as plt\n",
    "%matplotlib inline\n",
    "from datetime import datetime"
   ]
  },
  {
   "cell_type": "markdown",
   "metadata": {},
   "source": [
    "## 1. Carga de Datos"
   ]
  },
  {
   "cell_type": "code",
   "execution_count": 122,
   "metadata": {},
   "outputs": [],
   "source": [
    "df_xlsx_17 = pd.read_excel(str(project_dir) + '/data/juz10/'+ \"set_de_datos_resoluciones_jpcyf10_2017.ods.xlsx\")\n",
    "df_xlsx_18 = pd.read_excel(str(project_dir) + '/data/juz10/'+ \"set_de_datos_resoluciones_jpcyf10_2018.xlsx\")"
   ]
  },
  {
   "cell_type": "code",
   "execution_count": 123,
   "metadata": {},
   "outputs": [
    {
     "name": "stdout",
     "output_type": "stream",
     "text": [
      "En 2017 tenemos 562 casos\n",
      "En 2018 tenemos 1180 casos\n"
     ]
    }
   ],
   "source": [
    "print('En 2017 tenemos {} casos'.format(df_xlsx_17.shape[0]))\n",
    "print('En 2018 tenemos {} casos'.format(df_xlsx_18.shape[0]))"
   ]
  },
  {
   "cell_type": "code",
   "execution_count": 124,
   "metadata": {},
   "outputs": [
    {
     "data": {
      "text/plain": [
       "['N',\n",
       " 'NRO. REGISTRO',\n",
       " 'TOMO',\n",
       " 'FECHA RESOLUCION',\n",
       " 'NRO_EXPTE_JUSCABA',\n",
       " 'MATERIA',\n",
       " 'ARTICULO_INFRINGIDO',\n",
       " 'TIPO_DE_RESOLUCION',\n",
       " 'OBJETO_DE_LA_RESOLUCION ',\n",
       " 'DETALLE',\n",
       " 'DECISION',\n",
       " 'LINK',\n",
       " 'Unnamed: 12']"
      ]
     },
     "execution_count": 124,
     "metadata": {},
     "output_type": "execute_result"
    }
   ],
   "source": [
    "list(df_xlsx_17.columns.values)"
   ]
  },
  {
   "cell_type": "code",
   "execution_count": 125,
   "metadata": {},
   "outputs": [],
   "source": [
    "df_xlsx_17.columns = ['N',\n",
    " 'NRO._REGISTRO',\n",
    " 'TOMO',\n",
    " 'FECHA_RESOLUCION',\n",
    " 'NRO_EXPTE_EJE',\n",
    " 'MATERIA',\n",
    " 'ARTICULO_INFRINGIDO',\n",
    " 'TIPO_DE_RESOLUCION',\n",
    " 'OBJETO_DE_LA_RESOLUCION ',\n",
    " 'DETALLE',\n",
    " 'DECISION',\n",
    " 'LINK',\n",
    " 'Unnamed: 12']"
   ]
  },
  {
   "cell_type": "code",
   "execution_count": 126,
   "metadata": {},
   "outputs": [
    {
     "data": {
      "text/plain": [
       "['N',\n",
       " 'NRO._REGISTRO',\n",
       " 'TOMO',\n",
       " 'FECHA_RESOLUCION',\n",
       " 'NRO_EXPTE_EJE',\n",
       " 'MATERIA',\n",
       " 'ARTICULO_INFRINGIDO',\n",
       " 'CONDUCTA',\n",
       " 'TIPO_DE_RESOLUCION',\n",
       " 'OBJETO_DE_LA_RESOLUCION',\n",
       " 'DETALLE',\n",
       " 'DECISION',\n",
       " 'ORAL_O_ESCRITA',\n",
       " 'HORA_DE_INICIO',\n",
       " 'HORA_DE_CIERRE',\n",
       " 'DURACION',\n",
       " 'LINK',\n",
       " 'SI/NO_Recurrente',\n",
       " 'Decisión ',\n",
       " 'Nº Registro y Tomo',\n",
       " 'Link',\n",
       " 'SI/NO y Recurrente',\n",
       " 'Decisión de Admisibilidad (Cámara)',\n",
       " 'Nº Registro y Tomo.1',\n",
       " 'Link.1',\n",
       " 'Decisión de Fondo (TSJ)',\n",
       " 'Nº Registro y Tomo.2',\n",
       " 'SI/NO y quien',\n",
       " 'Confirma/Revoca/Confirma parcialmente/Rechazo in limine',\n",
       " 'Nº Registro y Tomo.3']"
      ]
     },
     "execution_count": 126,
     "metadata": {},
     "output_type": "execute_result"
    }
   ],
   "source": [
    "list(df_xlsx_18.columns.values)"
   ]
  },
  {
   "cell_type": "code",
   "execution_count": 127,
   "metadata": {},
   "outputs": [
    {
     "data": {
      "text/plain": [
       "['DECISION',\n",
       " 'NRO._REGISTRO',\n",
       " 'N',\n",
       " 'MATERIA',\n",
       " 'DETALLE',\n",
       " 'LINK',\n",
       " 'FECHA_RESOLUCION',\n",
       " 'ARTICULO_INFRINGIDO',\n",
       " 'NRO_EXPTE_EJE',\n",
       " 'TIPO_DE_RESOLUCION',\n",
       " 'TOMO']"
      ]
     },
     "execution_count": 127,
     "metadata": {},
     "output_type": "execute_result"
    }
   ],
   "source": [
    "list(set(df_xlsx_17.columns.values).intersection(df_xlsx_18.columns.values))"
   ]
  },
  {
   "cell_type": "markdown",
   "metadata": {},
   "source": [
    "Exploramos el contenido"
   ]
  },
  {
   "cell_type": "code",
   "execution_count": 128,
   "metadata": {},
   "outputs": [],
   "source": [
    "df_18 = df_xlsx_18[['DECISION','NRO._REGISTRO','N','MATERIA',\n",
    "         'DETALLE','LINK','FECHA_RESOLUCION','ARTICULO_INFRINGIDO',\n",
    "            'NRO_EXPTE_EJE','TIPO_DE_RESOLUCION','TOMO']]"
   ]
  },
  {
   "cell_type": "code",
   "execution_count": 129,
   "metadata": {},
   "outputs": [],
   "source": [
    "df_17 = df_xlsx_17[['DECISION','NRO._REGISTRO','N','MATERIA',\n",
    "         'DETALLE','LINK','FECHA_RESOLUCION','ARTICULO_INFRINGIDO',\n",
    "            'NRO_EXPTE_EJE','TIPO_DE_RESOLUCION','TOMO']]"
   ]
  },
  {
   "cell_type": "code",
   "execution_count": 130,
   "metadata": {},
   "outputs": [],
   "source": [
    "df_xlsx = df_17.append(df_18)"
   ]
  },
  {
   "cell_type": "code",
   "execution_count": 131,
   "metadata": {},
   "outputs": [
    {
     "data": {
      "text/plain": [
       "(1742, 11)"
      ]
     },
     "execution_count": 131,
     "metadata": {},
     "output_type": "execute_result"
    }
   ],
   "source": [
    "df_xlsx.shape"
   ]
  },
  {
   "cell_type": "markdown",
   "metadata": {},
   "source": [
    "## 2. Exploramos las distintas variables"
   ]
  },
  {
   "cell_type": "markdown",
   "metadata": {},
   "source": [
    "### 2.1 Fechas"
   ]
  },
  {
   "cell_type": "code",
   "execution_count": 132,
   "metadata": {},
   "outputs": [],
   "source": [
    "df_xlsx.dropna(subset=['FECHA_RESOLUCION'], inplace=True)"
   ]
  },
  {
   "cell_type": "code",
   "execution_count": 133,
   "metadata": {},
   "outputs": [],
   "source": [
    "# Corregimos algunos datos\n",
    "df_xlsx['FECHA_RESOLUCION'].replace('14_08_17','14_08_2017', inplace=True)\n",
    "df_xlsx['FECHA_RESOLUCION'].replace('28_02_18','28_02_2018', inplace=True)\n",
    "df_xlsx['FECHA_RESOLUCION'].replace('04_09_18','04_09_2018', inplace=True)\n",
    "df_xlsx['FECHA_RESOLUCION'].replace('06_09_18','06_09_2018', inplace=True)\n",
    "df_xlsx['FECHA_RESOLUCION'].replace('10_09_18','10_09_2018', inplace=True)\n",
    "# Valor 18_19_2017 no tiene formato de fecha\n",
    "df_xlsx['FECHA_RESOLUCION'].replace('18_19_2017',None, inplace=True)\n",
    "df_xlsx.dropna(subset=['FECHA_RESOLUCION'], inplace=True)"
   ]
  },
  {
   "cell_type": "code",
   "execution_count": 134,
   "metadata": {},
   "outputs": [],
   "source": [
    "df_xlsx['FECHA_RESOLUCION']=df_xlsx['FECHA_RESOLUCION'].apply(lambda x: datetime.strptime(x, '%d_%m_%Y').strftime('%m-%d-%Y'))"
   ]
  },
  {
   "cell_type": "code",
   "execution_count": 135,
   "metadata": {},
   "outputs": [],
   "source": [
    "df_xlsx['FECHA_RESOLUCION'] = pd.to_datetime(df_xlsx['FECHA_RESOLUCION'])"
   ]
  },
  {
   "cell_type": "code",
   "execution_count": 136,
   "metadata": {},
   "outputs": [
    {
     "data": {
      "text/plain": [
       "0   2017-01-09\n",
       "1   2017-01-12\n",
       "2   2017-01-16\n",
       "3   2017-01-12\n",
       "4   2017-01-17\n",
       "Name: FECHA_RESOLUCION, dtype: datetime64[ns]"
      ]
     },
     "execution_count": 136,
     "metadata": {},
     "output_type": "execute_result"
    }
   ],
   "source": [
    "df_xlsx['FECHA_RESOLUCION'].head()"
   ]
  },
  {
   "cell_type": "code",
   "execution_count": 137,
   "metadata": {},
   "outputs": [
    {
     "data": {
      "text/plain": [
       "<matplotlib.axes._subplots.AxesSubplot at 0x1a1de4cbe0>"
      ]
     },
     "execution_count": 137,
     "metadata": {},
     "output_type": "execute_result"
    },
    {
     "data": {
      "image/png": "[encoded data removed]",
      "text/plain": [
       "<Figure size 432x288 with 1 Axes>"
      ]
     },
     "metadata": {
      "needs_background": "light"
     },
     "output_type": "display_data"
    }
   ],
   "source": [
    "df_xlsx['FECHA_RESOLUCION'].groupby(df_xlsx['FECHA_RESOLUCION'].dt.month).count().plot(kind=\"bar\")"
   ]
  },
  {
   "cell_type": "code",
   "execution_count": 138,
   "metadata": {},
   "outputs": [
    {
     "data": {
      "text/plain": [
       "Timestamp('2016-12-29 00:00:00')"
      ]
     },
     "execution_count": 138,
     "metadata": {},
     "output_type": "execute_result"
    }
   ],
   "source": [
    "df_xlsx['FECHA_RESOLUCION'].min()"
   ]
  },
  {
   "cell_type": "code",
   "execution_count": 139,
   "metadata": {},
   "outputs": [
    {
     "data": {
      "text/plain": [
       "Timestamp('2018-12-05 00:00:00')"
      ]
     },
     "execution_count": 139,
     "metadata": {},
     "output_type": "execute_result"
    }
   ],
   "source": [
    "df_xlsx['FECHA_RESOLUCION'].max()"
   ]
  },
  {
   "cell_type": "code",
   "execution_count": 140,
   "metadata": {},
   "outputs": [
    {
     "data": {
      "text/plain": [
       "<matplotlib.axes._subplots.AxesSubplot at 0x1a1d919e10>"
      ]
     },
     "execution_count": 140,
     "metadata": {},
     "output_type": "execute_result"
    },
    {
     "data": {
      "image/png": "[encoded data removed]",
      "text/plain": [
       "<Figure size 432x288 with 1 Axes>"
      ]
     },
     "metadata": {
      "needs_background": "light"
     },
     "output_type": "display_data"
    }
   ],
   "source": [
    "df_xlsx['FECHA_RESOLUCION'].groupby(df_xlsx['FECHA_RESOLUCION'].dt.year).count().plot(kind=\"bar\")"
   ]
  },
  {
   "cell_type": "markdown",
   "metadata": {},
   "source": [
    "### 2.2 Distribución de Causa"
   ]
  },
  {
   "cell_type": "code",
   "execution_count": 143,
   "metadata": {},
   "outputs": [],
   "source": [
    "df_xlsx['exp_unico'] = df_xlsx['NRO_EXPTE_EJE'].astype(str) +'T_'+ df_xlsx['TOMO'].astype(str)"
   ]
  },
  {
   "cell_type": "code",
   "execution_count": 144,
   "metadata": {},
   "outputs": [
    {
     "data": {
      "text/plain": [
       "0    17545_16T_5.0\n",
       "1      176_17T_5.0\n",
       "2      182_17T_5.0\n",
       "3      494_17T_5.0\n",
       "4      566_17T_5.0\n",
       "Name: exp_unico, dtype: object"
      ]
     },
     "execution_count": 144,
     "metadata": {},
     "output_type": "execute_result"
    }
   ],
   "source": [
    "df_xlsx.exp_unico.head()"
   ]
  },
  {
   "cell_type": "markdown",
   "metadata": {},
   "source": [
    "Estudiamos cuantas causas tienen expedientes que aparecen mas de una ves en la tabla."
   ]
  },
  {
   "cell_type": "code",
   "execution_count": 145,
   "metadata": {},
   "outputs": [
    {
     "data": {
      "text/html": [
       "<div>\n",
       "<style scoped>\n",
       "    .dataframe tbody tr th:only-of-type {\n",
       "        vertical-align: middle;\n",
       "    }\n",
       "\n",
       "    .dataframe tbody tr th {\n",
       "        vertical-align: top;\n",
       "    }\n",
       "\n",
       "    .dataframe thead th {\n",
       "        text-align: right;\n",
       "    }\n",
       "</style>\n",
       "<table border=\"1\" class=\"dataframe\">\n",
       "  <thead>\n",
       "    <tr style=\"text-align: right;\">\n",
       "      <th></th>\n",
       "      <th>casos</th>\n",
       "    </tr>\n",
       "    <tr>\n",
       "      <th>count</th>\n",
       "      <th></th>\n",
       "    </tr>\n",
       "  </thead>\n",
       "  <tbody>\n",
       "    <tr>\n",
       "      <th>1</th>\n",
       "      <td>965</td>\n",
       "    </tr>\n",
       "    <tr>\n",
       "      <th>2</th>\n",
       "      <td>128</td>\n",
       "    </tr>\n",
       "    <tr>\n",
       "      <th>3</th>\n",
       "      <td>25</td>\n",
       "    </tr>\n",
       "    <tr>\n",
       "      <th>4</th>\n",
       "      <td>13</td>\n",
       "    </tr>\n",
       "    <tr>\n",
       "      <th>5</th>\n",
       "      <td>4</td>\n",
       "    </tr>\n",
       "    <tr>\n",
       "      <th>6</th>\n",
       "      <td>4</td>\n",
       "    </tr>\n",
       "    <tr>\n",
       "      <th>8</th>\n",
       "      <td>1</td>\n",
       "    </tr>\n",
       "  </tbody>\n",
       "</table>\n",
       "</div>"
      ],
      "text/plain": [
       "       casos\n",
       "count       \n",
       "1        965\n",
       "2        128\n",
       "3         25\n",
       "4         13\n",
       "5          4\n",
       "6          4\n",
       "8          1"
      ]
     },
     "execution_count": 145,
     "metadata": {},
     "output_type": "execute_result"
    }
   ],
   "source": [
    "df_xlsx.groupby('exp_unico', sort=True).size().to_frame('count').groupby('count').size().to_frame('casos')"
   ]
  },
  {
   "cell_type": "markdown",
   "metadata": {},
   "source": [
    "### 2.3 Distribución por Materia"
   ]
  },
  {
   "cell_type": "code",
   "execution_count": 146,
   "metadata": {},
   "outputs": [
    {
     "data": {
      "text/plain": [
       "<matplotlib.axes._subplots.AxesSubplot at 0x1a1daa0400>"
      ]
     },
     "execution_count": 146,
     "metadata": {},
     "output_type": "execute_result"
    },
    {
     "data": {
      "image/png": "[encoded data removed]",
      "text/plain": [
       "<Figure size 432x288 with 1 Axes>"
      ]
     },
     "metadata": {
      "needs_background": "light"
     },
     "output_type": "display_data"
    }
   ],
   "source": [
    "df_xlsx['MATERIA'].groupby(df_xlsx['MATERIA']).count().plot(kind=\"bar\")"
   ]
  }
 ],
 "metadata": {
  "kernelspec": {
   "display_name": "Python 3",
   "language": "python",
   "name": "python3"
  },
  "language_info": {
   "codemirror_mode": {
    "name": "ipython",
    "version": 3
   },
   "file_extension": ".py",
   "mimetype": "text/x-python",
   "name": "python",
   "nbconvert_exporter": "python",
   "pygments_lexer": "ipython3",
   "version": "3.6.7"
  }
 },
 "nbformat": 4,
 "nbformat_minor": 2
}
