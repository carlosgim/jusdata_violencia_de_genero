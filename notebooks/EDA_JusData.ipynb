{
 "cells": [
  {
   "cell_type": "markdown",
   "metadata": {},
   "source": [
    "# Análisis Exploratorio de Datos de Juzgado 13\n",
    "\n",
    "## Primera Instancia - Montos"
   ]
  },
  {
   "cell_type": "code",
   "execution_count": 29,
   "metadata": {},
   "outputs": [],
   "source": [
    "from pathlib import Path\n",
    "import pandas as pd\n",
    "import sys\n",
    "project_dir = Path().resolve().parents[0]\n",
    "import seaborn as sns\n",
    "import matplotlib.pyplot as plt\n",
    "%matplotlib inline"
   ]
  },
  {
   "cell_type": "markdown",
   "metadata": {},
   "source": [
    "## 1. Carga de Datos"
   ]
  },
  {
   "cell_type": "code",
   "execution_count": 30,
   "metadata": {},
   "outputs": [],
   "source": [
    "df_xlsx = pd.read_excel(str(project_dir) + '/data/juz13/'+ \"Datos_Abiertos_de_Audiencias.xlsx\")"
   ]
  },
  {
   "cell_type": "markdown",
   "metadata": {},
   "source": [
    "Exploramos el contenido"
   ]
  },
  {
   "cell_type": "code",
   "execution_count": 31,
   "metadata": {},
   "outputs": [
    {
     "data": {
      "text/plain": [
       "(264, 43)"
      ]
     },
     "execution_count": 31,
     "metadata": {},
     "output_type": "execute_result"
    }
   ],
   "source": [
    "df_xlsx.shape"
   ]
  },
  {
   "cell_type": "code",
   "execution_count": 32,
   "metadata": {},
   "outputs": [
    {
     "name": "stdout",
     "output_type": "stream",
     "text": [
      "<class 'pandas.core.frame.DataFrame'>\n",
      "RangeIndex: 264 entries, 0 to 263\n",
      "Data columns (total 43 columns):\n",
      "Fecha                         259 non-null datetime64[ns]\n",
      "Causa                         259 non-null object\n",
      "Interno                       255 non-null object\n",
      "Cantidad de imputados         259 non-null float64\n",
      "Nombre del imputado           264 non-null object\n",
      "Sexo                          264 non-null object\n",
      "Edad                          264 non-null object\n",
      "Nacionalidad                  264 non-null object\n",
      "Materia                       259 non-null object\n",
      "Persona fisica / juridica     261 non-null object\n",
      "Fiscal interviniente          259 non-null object\n",
      "Nº de Fiscalia                259 non-null object\n",
      "Concurrio?                    259 non-null object\n",
      "Defensor público              259 non-null object\n",
      "Defensoría Oficial interv     259 non-null object\n",
      "Concurrio?.1                  259 non-null object\n",
      "Defensor Particular           259 non-null object\n",
      "Interviene Querella           259 non-null object\n",
      "Interviene Asesoria           259 non-null object\n",
      "Asesor interviniente          259 non-null object\n",
      "Concurrio?.2                  259 non-null object\n",
      "Participa la victima          259 non-null object\n",
      "Tiene testigos?               259 non-null object\n",
      "Cantidad de testigos          259 non-null object\n",
      "Artículo de Infraccion        259 non-null object\n",
      "Descripcion infraccion        256 non-null object\n",
      "Violencia Doméstica?          259 non-null object\n",
      "Cantidad de hechos            261 non-null float64\n",
      "Tipo de audiencia             259 non-null object\n",
      "Artículo de la  audiencia     258 non-null object\n",
      "Sala                          259 non-null object\n",
      "Grabada?                      259 non-null object\n",
      "Hora fijada                   259 non-null object\n",
      "Hora Inicio                   259 non-null object\n",
      "Hora Fin                      259 non-null object\n",
      "Minutos de atraso             259 non-null object\n",
      "Motivo del atraso             255 non-null object\n",
      "Total (minutos)               259 non-null object\n",
      "Se suspendio?                 259 non-null object\n",
      "Motivo de la suspension       259 non-null object\n",
      "Duró mas de una audiencia?    259 non-null object\n",
      "Tipo de resolucion            259 non-null object\n",
      "Resolucion                    258 non-null object\n",
      "dtypes: datetime64[ns](1), float64(2), object(40)\n",
      "memory usage: 88.8+ KB\n"
     ]
    }
   ],
   "source": [
    "df_xlsx.info()"
   ]
  },
  {
   "cell_type": "code",
   "execution_count": 33,
   "metadata": {},
   "outputs": [
    {
     "data": {
      "text/html": [
       "<div>\n",
       "<style scoped>\n",
       "    .dataframe tbody tr th:only-of-type {\n",
       "        vertical-align: middle;\n",
       "    }\n",
       "\n",
       "    .dataframe tbody tr th {\n",
       "        vertical-align: top;\n",
       "    }\n",
       "\n",
       "    .dataframe thead th {\n",
       "        text-align: right;\n",
       "    }\n",
       "</style>\n",
       "<table border=\"1\" class=\"dataframe\">\n",
       "  <thead>\n",
       "    <tr style=\"text-align: right;\">\n",
       "      <th></th>\n",
       "      <th>Fecha</th>\n",
       "      <th>Causa</th>\n",
       "      <th>Interno</th>\n",
       "      <th>Cantidad de imputados</th>\n",
       "      <th>Nombre del imputado</th>\n",
       "      <th>Sexo</th>\n",
       "      <th>Edad</th>\n",
       "      <th>Nacionalidad</th>\n",
       "      <th>Materia</th>\n",
       "      <th>Persona fisica / juridica</th>\n",
       "      <th>...</th>\n",
       "      <th>Hora Inicio</th>\n",
       "      <th>Hora Fin</th>\n",
       "      <th>Minutos de atraso</th>\n",
       "      <th>Motivo del atraso</th>\n",
       "      <th>Total (minutos)</th>\n",
       "      <th>Se suspendio?</th>\n",
       "      <th>Motivo de la suspension</th>\n",
       "      <th>Duró mas de una audiencia?</th>\n",
       "      <th>Tipo de resolucion</th>\n",
       "      <th>Resolucion</th>\n",
       "    </tr>\n",
       "  </thead>\n",
       "  <tbody>\n",
       "    <tr>\n",
       "      <th>0</th>\n",
       "      <td>2017-10-02</td>\n",
       "      <td>11762/17</td>\n",
       "      <td>114/F/17</td>\n",
       "      <td>1.0</td>\n",
       "      <td>Empresa N*** G*** SRL</td>\n",
       "      <td>no</td>\n",
       "      <td>no</td>\n",
       "      <td>no</td>\n",
       "      <td>Falta</td>\n",
       "      <td>Juridica</td>\n",
       "      <td>...</td>\n",
       "      <td>10.47</td>\n",
       "      <td>11.40</td>\n",
       "      <td>47</td>\n",
       "      <td>Por discrepancia en el alcance del poder</td>\n",
       "      <td>53</td>\n",
       "      <td>no</td>\n",
       "      <td>no</td>\n",
       "      <td>no</td>\n",
       "      <td>Definitiva</td>\n",
       "      <td>Condena de multa de 7200 UF en suspenso</td>\n",
       "    </tr>\n",
       "    <tr>\n",
       "      <th>1</th>\n",
       "      <td>2017-10-05</td>\n",
       "      <td>9885/17</td>\n",
       "      <td>444/C/17</td>\n",
       "      <td>1.0</td>\n",
       "      <td>B***, Francisco</td>\n",
       "      <td>M</td>\n",
       "      <td>24</td>\n",
       "      <td>Argentina</td>\n",
       "      <td>Contravencion</td>\n",
       "      <td>Fisica</td>\n",
       "      <td>...</td>\n",
       "      <td>9.34</td>\n",
       "      <td>3.39</td>\n",
       "      <td>34</td>\n",
       "      <td>Tardanza del imputado</td>\n",
       "      <td>5</td>\n",
       "      <td>no</td>\n",
       "      <td>no</td>\n",
       "      <td>no</td>\n",
       "      <td>Definitiva</td>\n",
       "      <td>Condena $1600 de multa mas abstenerse de conducir por 40 dias y curso vial</td>\n",
       "    </tr>\n",
       "    <tr>\n",
       "      <th>2</th>\n",
       "      <td>2017-10-06</td>\n",
       "      <td>21665/17</td>\n",
       "      <td>47/C/17</td>\n",
       "      <td>1.0</td>\n",
       "      <td>G***, Lucas Daniel</td>\n",
       "      <td>M</td>\n",
       "      <td>24</td>\n",
       "      <td>Argentina</td>\n",
       "      <td>Contravencion</td>\n",
       "      <td>Fisica</td>\n",
       "      <td>...</td>\n",
       "      <td>11.48</td>\n",
       "      <td>11.53</td>\n",
       "      <td>0</td>\n",
       "      <td>NaN</td>\n",
       "      <td>5</td>\n",
       "      <td>no</td>\n",
       "      <td>no</td>\n",
       "      <td>no</td>\n",
       "      <td>Interlocutoria</td>\n",
       "      <td>Prorroga de la probation por un mes</td>\n",
       "    </tr>\n",
       "    <tr>\n",
       "      <th>3</th>\n",
       "      <td>2017-10-06</td>\n",
       "      <td>15528/17</td>\n",
       "      <td>154/F/17</td>\n",
       "      <td>1.0</td>\n",
       "      <td>P***, Marcelo Gabiel</td>\n",
       "      <td>M</td>\n",
       "      <td>58</td>\n",
       "      <td>Argentina</td>\n",
       "      <td>Falta</td>\n",
       "      <td>Fisica</td>\n",
       "      <td>...</td>\n",
       "      <td>12.10</td>\n",
       "      <td>12.15</td>\n",
       "      <td>10</td>\n",
       "      <td>Problemas técnicos en la sala</td>\n",
       "      <td>5</td>\n",
       "      <td>no</td>\n",
       "      <td>no</td>\n",
       "      <td>no</td>\n",
       "      <td>Definitiva</td>\n",
       "      <td>Condena de multa 300 UF en suspenso</td>\n",
       "    </tr>\n",
       "    <tr>\n",
       "      <th>4</th>\n",
       "      <td>2017-10-06</td>\n",
       "      <td>8180/16</td>\n",
       "      <td>84/D/17</td>\n",
       "      <td>1.0</td>\n",
       "      <td>G****, Adriano Osmar</td>\n",
       "      <td>M</td>\n",
       "      <td>28</td>\n",
       "      <td>Paraguaya</td>\n",
       "      <td>Penal</td>\n",
       "      <td>Fisica</td>\n",
       "      <td>...</td>\n",
       "      <td>11.10</td>\n",
       "      <td>11.40</td>\n",
       "      <td>10</td>\n",
       "      <td>El imputado no había completado sus datos</td>\n",
       "      <td>30</td>\n",
       "      <td>no</td>\n",
       "      <td>no</td>\n",
       "      <td>no</td>\n",
       "      <td>Interlocutoria</td>\n",
       "      <td>Probation 1 año, reglas: 1, 2, 36 hs tareas comunitarias y abstenerse de tomar contacto</td>\n",
       "    </tr>\n",
       "  </tbody>\n",
       "</table>\n",
       "<p>5 rows × 43 columns</p>\n",
       "</div>"
      ],
      "text/plain": [
       "       Fecha     Causa   Interno  Cantidad de imputados  \\\n",
       "0 2017-10-02  11762/17  114/F/17  1.0                     \n",
       "1 2017-10-05  9885/17   444/C/17  1.0                     \n",
       "2 2017-10-06  21665/17  47/C/17   1.0                     \n",
       "3 2017-10-06  15528/17  154/F/17  1.0                     \n",
       "4 2017-10-06  8180/16   84/D/17   1.0                     \n",
       "\n",
       "     Nombre del imputado  Sexo  Edad Nacionalidad        Materia  \\\n",
       "0  Empresa N*** G*** SRL   no     no    no         Falta           \n",
       "1  B***, Francisco        M     24    Argentina    Contravencion   \n",
       "2  G***, Lucas Daniel     M     24    Argentina    Contravencion   \n",
       "3  P***, Marcelo Gabiel   M     58    Argentina    Falta           \n",
       "4  G****, Adriano Osmar   M     28    Paraguaya    Penal           \n",
       "\n",
       "  Persona fisica / juridica  \\\n",
       "0  Juridica                   \n",
       "1  Fisica                     \n",
       "2  Fisica                     \n",
       "3  Fisica                     \n",
       "4  Fisica                     \n",
       "\n",
       "                                            ...                                             \\\n",
       "0                                           ...                                              \n",
       "1                                           ...                                              \n",
       "2                                           ...                                              \n",
       "3                                           ...                                              \n",
       "4                                           ...                                              \n",
       "\n",
       "  Hora Inicio Hora Fin Minutos de atraso  \\\n",
       "0  10.47       11.40    47                 \n",
       "1  9.34        3.39     34                 \n",
       "2  11.48       11.53    0                  \n",
       "3  12.10       12.15    10                 \n",
       "4  11.10       11.40    10                 \n",
       "\n",
       "                           Motivo del atraso Total (minutos) Se suspendio?  \\\n",
       "0  Por discrepancia en el alcance del poder   53              no             \n",
       "1  Tardanza del imputado                      5               no             \n",
       "2  NaN                                        5               no             \n",
       "3  Problemas técnicos en la sala              5               no             \n",
       "4  El imputado no había completado sus datos  30              no             \n",
       "\n",
       "  Motivo de la suspension Duró mas de una audiencia? Tipo de resolucion  \\\n",
       "0    no                    no                         Definitiva          \n",
       "1    no                    no                         Definitiva          \n",
       "2    no                    no                         Interlocutoria      \n",
       "3    no                    no                         Definitiva          \n",
       "4    no                    no                         Interlocutoria      \n",
       "\n",
       "                                                                                Resolucion  \n",
       "0  Condena de multa de 7200 UF en suspenso                                                  \n",
       "1  Condena $1600 de multa mas abstenerse de conducir por 40 dias y curso vial               \n",
       "2  Prorroga de la probation por un mes                                                      \n",
       "3  Condena de multa 300 UF en suspenso                                                      \n",
       "4  Probation 1 año, reglas: 1, 2, 36 hs tareas comunitarias y abstenerse de tomar contacto  \n",
       "\n",
       "[5 rows x 43 columns]"
      ]
     },
     "execution_count": 33,
     "metadata": {},
     "output_type": "execute_result"
    }
   ],
   "source": [
    "df_xlsx.head()"
   ]
  },
  {
   "cell_type": "markdown",
   "metadata": {},
   "source": [
    "## 2. Exploramos las distintas variables"
   ]
  },
  {
   "cell_type": "markdown",
   "metadata": {},
   "source": [
    "### 2.1 Fechas"
   ]
  },
  {
   "cell_type": "code",
   "execution_count": 34,
   "metadata": {},
   "outputs": [
    {
     "data": {
      "text/plain": [
       "<matplotlib.axes._subplots.AxesSubplot at 0x1a199657f0>"
      ]
     },
     "execution_count": 34,
     "metadata": {},
     "output_type": "execute_result"
    },
    {
     "data": {
      "image/png": "[encoded data removed]",
      "text/plain": [
       "<Figure size 432x288 with 1 Axes>"
      ]
     },
     "metadata": {
      "needs_background": "light"
     },
     "output_type": "display_data"
    }
   ],
   "source": [
    "df_xlsx.Fecha.groupby(df_xlsx[\"Fecha\"].dt.month).count().plot(kind=\"bar\")"
   ]
  },
  {
   "cell_type": "code",
   "execution_count": 35,
   "metadata": {},
   "outputs": [
    {
     "data": {
      "text/plain": [
       "Timestamp('2017-10-02 00:00:00')"
      ]
     },
     "execution_count": 35,
     "metadata": {},
     "output_type": "execute_result"
    }
   ],
   "source": [
    "df_xlsx.Fecha.min()"
   ]
  },
  {
   "cell_type": "code",
   "execution_count": 36,
   "metadata": {},
   "outputs": [
    {
     "data": {
      "text/plain": [
       "Timestamp('2018-12-10 00:00:00')"
      ]
     },
     "execution_count": 36,
     "metadata": {},
     "output_type": "execute_result"
    }
   ],
   "source": [
    "df_xlsx.Fecha.max()"
   ]
  },
  {
   "cell_type": "code",
   "execution_count": 37,
   "metadata": {},
   "outputs": [
    {
     "data": {
      "text/plain": [
       "<matplotlib.axes._subplots.AxesSubplot at 0x1a1859d160>"
      ]
     },
     "execution_count": 37,
     "metadata": {},
     "output_type": "execute_result"
    },
    {
     "data": {
      "image/png": "[encoded data removed]",
      "text/plain": [
       "<Figure size 432x288 with 1 Axes>"
      ]
     },
     "metadata": {
      "needs_background": "light"
     },
     "output_type": "display_data"
    }
   ],
   "source": [
    "df_xlsx.Fecha.groupby(df_xlsx[\"Fecha\"].dt.year).count().plot(kind=\"bar\")"
   ]
  },
  {
   "cell_type": "markdown",
   "metadata": {},
   "source": [
    "### 2.2 Distribución de Cusa"
   ]
  },
  {
   "cell_type": "code",
   "execution_count": 38,
   "metadata": {},
   "outputs": [
    {
     "data": {
      "text/plain": [
       "(264,)"
      ]
     },
     "execution_count": 38,
     "metadata": {},
     "output_type": "execute_result"
    }
   ],
   "source": [
    "df_xlsx.Causa.shape"
   ]
  },
  {
   "cell_type": "code",
   "execution_count": 41,
   "metadata": {},
   "outputs": [
    {
     "ename": "AttributeError",
     "evalue": "'Series' object has no attribute 'freq'",
     "output_type": "error",
     "traceback": [
      "\u001b[0;31m---------------------------------------------------------------------------\u001b[0m",
      "\u001b[0;31mAttributeError\u001b[0m                            Traceback (most recent call last)",
      "\u001b[0;32m<ipython-input-41-6c758ecb8760>\u001b[0m in \u001b[0;36m<module>\u001b[0;34m\u001b[0m\n\u001b[0;32m----> 1\u001b[0;31m \u001b[0mdf_xlsx\u001b[0m\u001b[0;34m.\u001b[0m\u001b[0mCausa\u001b[0m\u001b[0;34m.\u001b[0m\u001b[0mfreq\u001b[0m\u001b[0;34m(\u001b[0m\u001b[0;34m)\u001b[0m\u001b[0;34m\u001b[0m\u001b[0;34m\u001b[0m\u001b[0m\n\u001b[0m",
      "\u001b[0;32m/anaconda3/envs/py36/lib/python3.6/site-packages/pandas/core/generic.py\u001b[0m in \u001b[0;36m__getattr__\u001b[0;34m(self, name)\u001b[0m\n\u001b[1;32m   4374\u001b[0m             \u001b[0;32mif\u001b[0m \u001b[0mself\u001b[0m\u001b[0;34m.\u001b[0m\u001b[0m_info_axis\u001b[0m\u001b[0;34m.\u001b[0m\u001b[0m_can_hold_identifiers_and_holds_name\u001b[0m\u001b[0;34m(\u001b[0m\u001b[0mname\u001b[0m\u001b[0;34m)\u001b[0m\u001b[0;34m:\u001b[0m\u001b[0;34m\u001b[0m\u001b[0;34m\u001b[0m\u001b[0m\n\u001b[1;32m   4375\u001b[0m                 \u001b[0;32mreturn\u001b[0m \u001b[0mself\u001b[0m\u001b[0;34m[\u001b[0m\u001b[0mname\u001b[0m\u001b[0;34m]\u001b[0m\u001b[0;34m\u001b[0m\u001b[0;34m\u001b[0m\u001b[0m\n\u001b[0;32m-> 4376\u001b[0;31m             \u001b[0;32mreturn\u001b[0m \u001b[0mobject\u001b[0m\u001b[0;34m.\u001b[0m\u001b[0m__getattribute__\u001b[0m\u001b[0;34m(\u001b[0m\u001b[0mself\u001b[0m\u001b[0;34m,\u001b[0m \u001b[0mname\u001b[0m\u001b[0;34m)\u001b[0m\u001b[0;34m\u001b[0m\u001b[0;34m\u001b[0m\u001b[0m\n\u001b[0m\u001b[1;32m   4377\u001b[0m \u001b[0;34m\u001b[0m\u001b[0m\n\u001b[1;32m   4378\u001b[0m     \u001b[0;32mdef\u001b[0m \u001b[0m__setattr__\u001b[0m\u001b[0;34m(\u001b[0m\u001b[0mself\u001b[0m\u001b[0;34m,\u001b[0m \u001b[0mname\u001b[0m\u001b[0;34m,\u001b[0m \u001b[0mvalue\u001b[0m\u001b[0;34m)\u001b[0m\u001b[0;34m:\u001b[0m\u001b[0;34m\u001b[0m\u001b[0;34m\u001b[0m\u001b[0m\n",
      "\u001b[0;31mAttributeError\u001b[0m: 'Series' object has no attribute 'freq'"
     ]
    }
   ],
   "source": [
    "df_xlsx.Causa.freq()"
   ]
  }
 ],
 "metadata": {
  "kernelspec": {
   "display_name": "Python 3",
   "language": "python",
   "name": "python3"
  },
  "language_info": {
   "codemirror_mode": {
    "name": "ipython",
    "version": 3
   },
   "file_extension": ".py",
   "mimetype": "text/x-python",
   "name": "python",
   "nbconvert_exporter": "python",
   "pygments_lexer": "ipython3",
   "version": "3.6.7"
  }
 },
 "nbformat": 4,
 "nbformat_minor": 2
}
